{
 "cells": [
  {
   "cell_type": "code",
   "execution_count": 13,
   "id": "a9e96275",
   "metadata": {},
   "outputs": [],
   "source": [
    "#pip install pytesseract"
   ]
  },
  {
   "cell_type": "code",
   "execution_count": 14,
   "id": "672a1309",
   "metadata": {},
   "outputs": [],
   "source": [
    "# pip install opencv-python"
   ]
  },
  {
   "cell_type": "code",
   "execution_count": 15,
   "id": "1cc545d9",
   "metadata": {},
   "outputs": [],
   "source": [
    "# pip install pytz"
   ]
  },
  {
   "cell_type": "code",
   "execution_count": 16,
   "id": "021d3d58",
   "metadata": {},
   "outputs": [],
   "source": [
    "# pip install lxml"
   ]
  },
  {
   "cell_type": "code",
   "execution_count": 17,
   "id": "3284ed74",
   "metadata": {},
   "outputs": [],
   "source": [
    "# pip install pyqt5"
   ]
  },
  {
   "cell_type": "code",
   "execution_count": 1,
   "id": "74051aeb",
   "metadata": {},
   "outputs": [],
   "source": [
    "import os"
   ]
  },
  {
   "cell_type": "code",
   "execution_count": 1,
   "id": "e7ac1e47",
   "metadata": {},
   "outputs": [
    {
     "name": "stdout",
     "output_type": "stream",
     "text": [
      "Requirement already satisfied: PyQt5 in c:\\users\\steffin john\\anaconda3\\lib\\site-packages (5.15.9)\n",
      "Requirement already satisfied: PyQt5-Qt5>=5.15.2 in c:\\users\\steffin john\\anaconda3\\lib\\site-packages (from PyQt5) (5.15.2)\n",
      "Requirement already satisfied: PyQt5-sip<13,>=12.11 in c:\\users\\steffin john\\anaconda3\\lib\\site-packages (from PyQt5) (12.11.1)\n",
      "Note: you may need to restart the kernel to use updated packages.\n"
     ]
    }
   ],
   "source": [
    "pip install PyQt5"
   ]
  },
  {
   "cell_type": "code",
   "execution_count": 2,
   "id": "67486c8b",
   "metadata": {},
   "outputs": [
    {
     "name": "stdout",
     "output_type": "stream",
     "text": [
      "Requirement already satisfied: sip in c:\\users\\steffin john\\anaconda3\\lib\\site-packages (4.19.13)\n",
      "Note: you may need to restart the kernel to use updated packages.\n"
     ]
    }
   ],
   "source": [
    "pip install sip"
   ]
  },
  {
   "cell_type": "code",
   "execution_count": 20,
   "id": "b5eab2e6",
   "metadata": {},
   "outputs": [],
   "source": [
    "import pandas as pd"
   ]
  },
  {
   "cell_type": "code",
   "execution_count": 18,
   "id": "242d1a96",
   "metadata": {},
   "outputs": [],
   "source": [
    "from PIL import Image\n",
    "import xml.etree.ElementTree as ET"
   ]
  },
  {
   "cell_type": "code",
   "execution_count": 6,
   "id": "935e133c",
   "metadata": {},
   "outputs": [],
   "source": [
    "import pytesseract\n",
    "pytesseract.pytesseract.tesseract_cmd = r'C:\\\\Program Files\\\\Tesseract-OCR\\\\tesseract.exe'"
   ]
  },
  {
   "cell_type": "code",
   "execution_count": 7,
   "id": "4424fa16",
   "metadata": {},
   "outputs": [],
   "source": [
    "import cv2"
   ]
  },
  {
   "cell_type": "code",
   "execution_count": 8,
   "id": "b01683ba",
   "metadata": {},
   "outputs": [],
   "source": [
    "img_1 = cv2.imread(r'C:\\\\Users\\\\STEFFIN JOHN\\\\Desktop\\\\Jypiter Python\\\\Hackaton Competition\\\\Intellect AI Hackathon 2023\\\\inv_train\\\\2.jpeg')"
   ]
  },
  {
   "cell_type": "code",
   "execution_count": 9,
   "id": "8346e89e",
   "metadata": {},
   "outputs": [],
   "source": [
    "cv2.imshow('sample img',img_1)\n",
    "cv2.waitKey(0)\n",
    "cv2.destroyAllWindows()"
   ]
  },
  {
   "cell_type": "code",
   "execution_count": 10,
   "id": "b03fcede",
   "metadata": {},
   "outputs": [
    {
     "name": "stdout",
     "output_type": "stream",
     "text": [
      "| smverce 2536 °\n",
      "Cece May 31, 1986 (Mailed June 9)\n",
      "5400/01A\n",
      "\n",
      "«+ William A. Robinson, Inc.\n",
      "\n",
      "Mr. William I. Campbell\n",
      "Marketing Services Ag ip\n",
      "“0 _ Executive Vice President, Marketing\n",
      "35 East Wacker Drive PHILIP MORRIS U.S.A. .\n",
      "Chicago, I 6602108 120 Park Avenue\n",
      "\n",
      "9389 New York, NY 10017 ’\n",
      "\n",
      "I. CONTINUING PROJECTS.\n",
      "\n",
      ". Developed additional concepts for trade\n",
      "class specific programs. $4,230.00\n",
      "| Continued refinement of Parliament\n",
      ". Regional Comedy program. | 1,975.00\n",
      "| ‘presented initial concepts and developed | .\n",
      "additional ‘ideas for direct marketing\n",
      "- all brands. 4,471.00\n",
      "|\n",
      "| . Began discussions with Marketing Promotion |\n",
      "on plussing Marlboro events. 800.00 e@\n",
      "\n",
      "II. NEW PROJECTS . 1\n",
      "\n",
      ". Developed premium priced cigarette concepts\n",
      "| (for June presentation.) 4,350.00 | J {t\n",
      "| | peveloped and presented B & H business in\n",
      "| building concepts. 5,250.00 |\n",
      "i\n",
      "\n",
      "II. ALL BRANDS |\n",
      "\n",
      "| . Began development of Seminar. )\n",
      "\n",
      "| . Administration ) 13,877.00\n",
      ". Account Service ) |\n",
      "\n",
      "| .  Qut-of-pocket expenses 6,347.84\n",
      "\n",
      "|\n",
      ". |\n",
      "\n",
      "$42,300.84\n",
      "\n",
      "B1392\n",
      "\n",
      "wad A PAYMENT TERMS Sas Guthonth ace charge on unpaid aed ra\n",
      "\n",
      "\n"
     ]
    }
   ],
   "source": [
    "text = pytesseract.image_to_string(img_1)\n",
    "print(text)"
   ]
  },
  {
   "cell_type": "code",
   "execution_count": 25,
   "id": "669675d0",
   "metadata": {},
   "outputs": [],
   "source": [
    "image = Image.open(r'C:\\\\Users\\\\STEFFIN JOHN\\\\Desktop\\\\Jypiter Python\\\\Hackaton Competition\\\\Intellect AI Hackathon 2023\\\\inv_train\\\\2.jpeg')"
   ]
  },
  {
   "cell_type": "code",
   "execution_count": 53,
   "id": "8bb644cb",
   "metadata": {},
   "outputs": [],
   "source": [
    "tree = ET.parse(r'C:\\\\Users\\\\STEFFIN JOHN\\\\Desktop\\\\Jypiter Python\\\\Hackaton Competition\\\\Intellect AI Hackathon 2023\\\\inv_train\\\\2.xml')\n",
    "root = tree.getroot()"
   ]
  },
  {
   "cell_type": "code",
   "execution_count": 77,
   "id": "61ca3adf",
   "metadata": {},
   "outputs": [],
   "source": [
    "df = pd.DataFrame(columns=['name', 'text'])"
   ]
  },
  {
   "cell_type": "code",
   "execution_count": 87,
   "id": "09678d54",
   "metadata": {},
   "outputs": [
    {
     "name": "stderr",
     "output_type": "stream",
     "text": [
      "C:\\Users\\STEFFIN JOHN\\AppData\\Local\\Temp\\ipykernel_11376\\3608626359.py:9: FutureWarning: The frame.append method is deprecated and will be removed from pandas in a future version. Use pandas.concat instead.\n",
      "  df = df.append({'name': name, 'text': text}, ignore_index=True)\n",
      "C:\\Users\\STEFFIN JOHN\\AppData\\Local\\Temp\\ipykernel_11376\\3608626359.py:9: FutureWarning: The frame.append method is deprecated and will be removed from pandas in a future version. Use pandas.concat instead.\n",
      "  df = df.append({'name': name, 'text': text}, ignore_index=True)\n",
      "C:\\Users\\STEFFIN JOHN\\AppData\\Local\\Temp\\ipykernel_11376\\3608626359.py:9: FutureWarning: The frame.append method is deprecated and will be removed from pandas in a future version. Use pandas.concat instead.\n",
      "  df = df.append({'name': name, 'text': text}, ignore_index=True)\n",
      "C:\\Users\\STEFFIN JOHN\\AppData\\Local\\Temp\\ipykernel_11376\\3608626359.py:9: FutureWarning: The frame.append method is deprecated and will be removed from pandas in a future version. Use pandas.concat instead.\n",
      "  df = df.append({'name': name, 'text': text}, ignore_index=True)\n",
      "C:\\Users\\STEFFIN JOHN\\AppData\\Local\\Temp\\ipykernel_11376\\3608626359.py:9: FutureWarning: The frame.append method is deprecated and will be removed from pandas in a future version. Use pandas.concat instead.\n",
      "  df = df.append({'name': name, 'text': text}, ignore_index=True)\n",
      "C:\\Users\\STEFFIN JOHN\\AppData\\Local\\Temp\\ipykernel_11376\\3608626359.py:9: FutureWarning: The frame.append method is deprecated and will be removed from pandas in a future version. Use pandas.concat instead.\n",
      "  df = df.append({'name': name, 'text': text}, ignore_index=True)\n"
     ]
    }
   ],
   "source": [
    "for obj in root.findall('object'):\n",
    "    name = obj.find('name').text\n",
    "    xmin = int(obj.find('bndbox/xmin').text)\n",
    "    ymin = int(obj.find('bndbox/ymin').text)\n",
    "    xmax = int(obj.find('bndbox/xmax').text)\n",
    "    ymax = int(obj.find('bndbox/ymax').text)\n",
    "    region = image.crop((xmin, ymin, xmax, ymax))\n",
    "    text = pytesseract.image_to_string(region)\n",
    "    df = df.append({'name': name, 'text': text}, ignore_index=True)"
   ]
  },
  {
   "cell_type": "code",
   "execution_count": 81,
   "id": "b7abf9a4",
   "metadata": {},
   "outputs": [
    {
     "data": {
      "text/html": [
       "<div>\n",
       "<style scoped>\n",
       "    .dataframe tbody tr th:only-of-type {\n",
       "        vertical-align: middle;\n",
       "    }\n",
       "\n",
       "    .dataframe tbody tr th {\n",
       "        vertical-align: top;\n",
       "    }\n",
       "\n",
       "    .dataframe thead th {\n",
       "        text-align: right;\n",
       "    }\n",
       "</style>\n",
       "<table border=\"1\" class=\"dataframe\">\n",
       "  <thead>\n",
       "    <tr style=\"text-align: right;\">\n",
       "      <th></th>\n",
       "      <th>name</th>\n",
       "      <th>text</th>\n",
       "    </tr>\n",
       "  </thead>\n",
       "  <tbody>\n",
       "    <tr>\n",
       "      <th>0</th>\n",
       "      <td>Bill_To_Name</td>\n",
       "      <td>Mr. William I. Campbell\\n</td>\n",
       "    </tr>\n",
       "    <tr>\n",
       "      <th>1</th>\n",
       "      <td>Bill_To_Address</td>\n",
       "      <td>PHILIP MORRIS U.S.A.\\n120 Park Avenue\\nNow vor...</td>\n",
       "    </tr>\n",
       "    <tr>\n",
       "      <th>2</th>\n",
       "      <td>Invoice_Number</td>\n",
       "      <td>2536\\n</td>\n",
       "    </tr>\n",
       "    <tr>\n",
       "      <th>3</th>\n",
       "      <td>Invoice_Date</td>\n",
       "      <td>May 31, 1986\\n</td>\n",
       "    </tr>\n",
       "    <tr>\n",
       "      <th>4</th>\n",
       "      <td>Total_Tax_Amount</td>\n",
       "      <td>41,300.84\\n</td>\n",
       "    </tr>\n",
       "    <tr>\n",
       "      <th>5</th>\n",
       "      <td>Total_Amount</td>\n",
       "      <td>41.300. 84\\n</td>\n",
       "    </tr>\n",
       "  </tbody>\n",
       "</table>\n",
       "</div>"
      ],
      "text/plain": [
       "               name                                               text\n",
       "0      Bill_To_Name                          Mr. William I. Campbell\\n\n",
       "1   Bill_To_Address  PHILIP MORRIS U.S.A.\\n120 Park Avenue\\nNow vor...\n",
       "2    Invoice_Number                                             2536\\n\n",
       "3      Invoice_Date                                     May 31, 1986\\n\n",
       "4  Total_Tax_Amount                                        41,300.84\\n\n",
       "5      Total_Amount                                       41.300. 84\\n"
      ]
     },
     "execution_count": 81,
     "metadata": {},
     "output_type": "execute_result"
    }
   ],
   "source": [
    "df"
   ]
  },
  {
   "cell_type": "code",
   "execution_count": 83,
   "id": "2ebea165",
   "metadata": {},
   "outputs": [],
   "source": [
    "df = df.pivot(index=None, columns='name', values='text')"
   ]
  },
  {
   "cell_type": "code",
   "execution_count": 84,
   "id": "8616132e",
   "metadata": {},
   "outputs": [
    {
     "data": {
      "text/html": [
       "<div>\n",
       "<style scoped>\n",
       "    .dataframe tbody tr th:only-of-type {\n",
       "        vertical-align: middle;\n",
       "    }\n",
       "\n",
       "    .dataframe tbody tr th {\n",
       "        vertical-align: top;\n",
       "    }\n",
       "\n",
       "    .dataframe thead th {\n",
       "        text-align: right;\n",
       "    }\n",
       "</style>\n",
       "<table border=\"1\" class=\"dataframe\">\n",
       "  <thead>\n",
       "    <tr style=\"text-align: right;\">\n",
       "      <th>name</th>\n",
       "      <th>Bill_To_Address</th>\n",
       "      <th>Bill_To_Name</th>\n",
       "      <th>Invoice_Date</th>\n",
       "      <th>Invoice_Number</th>\n",
       "      <th>Total_Amount</th>\n",
       "      <th>Total_Tax_Amount</th>\n",
       "    </tr>\n",
       "  </thead>\n",
       "  <tbody>\n",
       "    <tr>\n",
       "      <th>0</th>\n",
       "      <td>NaN</td>\n",
       "      <td>Mr. William I. Campbell\\n</td>\n",
       "      <td>NaN</td>\n",
       "      <td>NaN</td>\n",
       "      <td>NaN</td>\n",
       "      <td>NaN</td>\n",
       "    </tr>\n",
       "    <tr>\n",
       "      <th>1</th>\n",
       "      <td>PHILIP MORRIS U.S.A.\\n120 Park Avenue\\nNow vor...</td>\n",
       "      <td>NaN</td>\n",
       "      <td>NaN</td>\n",
       "      <td>NaN</td>\n",
       "      <td>NaN</td>\n",
       "      <td>NaN</td>\n",
       "    </tr>\n",
       "    <tr>\n",
       "      <th>2</th>\n",
       "      <td>NaN</td>\n",
       "      <td>NaN</td>\n",
       "      <td>NaN</td>\n",
       "      <td>2536\\n</td>\n",
       "      <td>NaN</td>\n",
       "      <td>NaN</td>\n",
       "    </tr>\n",
       "    <tr>\n",
       "      <th>3</th>\n",
       "      <td>NaN</td>\n",
       "      <td>NaN</td>\n",
       "      <td>May 31, 1986\\n</td>\n",
       "      <td>NaN</td>\n",
       "      <td>NaN</td>\n",
       "      <td>NaN</td>\n",
       "    </tr>\n",
       "    <tr>\n",
       "      <th>4</th>\n",
       "      <td>NaN</td>\n",
       "      <td>NaN</td>\n",
       "      <td>NaN</td>\n",
       "      <td>NaN</td>\n",
       "      <td>NaN</td>\n",
       "      <td>41,300.84\\n</td>\n",
       "    </tr>\n",
       "    <tr>\n",
       "      <th>5</th>\n",
       "      <td>NaN</td>\n",
       "      <td>NaN</td>\n",
       "      <td>NaN</td>\n",
       "      <td>NaN</td>\n",
       "      <td>41.300. 84\\n</td>\n",
       "      <td>NaN</td>\n",
       "    </tr>\n",
       "  </tbody>\n",
       "</table>\n",
       "</div>"
      ],
      "text/plain": [
       "name                                    Bill_To_Address  \\\n",
       "0                                                   NaN   \n",
       "1     PHILIP MORRIS U.S.A.\\n120 Park Avenue\\nNow vor...   \n",
       "2                                                   NaN   \n",
       "3                                                   NaN   \n",
       "4                                                   NaN   \n",
       "5                                                   NaN   \n",
       "\n",
       "name               Bill_To_Name    Invoice_Date Invoice_Number  Total_Amount  \\\n",
       "0     Mr. William I. Campbell\\n             NaN            NaN           NaN   \n",
       "1                           NaN             NaN            NaN           NaN   \n",
       "2                           NaN             NaN         2536\\n           NaN   \n",
       "3                           NaN  May 31, 1986\\n            NaN           NaN   \n",
       "4                           NaN             NaN            NaN           NaN   \n",
       "5                           NaN             NaN            NaN  41.300. 84\\n   \n",
       "\n",
       "name Total_Tax_Amount  \n",
       "0                 NaN  \n",
       "1                 NaN  \n",
       "2                 NaN  \n",
       "3                 NaN  \n",
       "4         41,300.84\\n  \n",
       "5                 NaN  "
      ]
     },
     "execution_count": 84,
     "metadata": {},
     "output_type": "execute_result"
    }
   ],
   "source": [
    "df"
   ]
  },
  {
   "cell_type": "code",
   "execution_count": 92,
   "id": "db92d7f7",
   "metadata": {},
   "outputs": [],
   "source": [
    "df_1 = pd.DataFrame(columns=['name', 'text'])"
   ]
  },
  {
   "cell_type": "code",
   "execution_count": 93,
   "id": "941f33d6",
   "metadata": {},
   "outputs": [],
   "source": [
    "data = []\n",
    "for obj in root.findall('object'):\n",
    "    name = obj.find('name').text\n",
    "    xmin = int(obj.find('bndbox/xmin').text)\n",
    "    ymin = int(obj.find('bndbox/ymin').text)\n",
    "    xmax = int(obj.find('bndbox/xmax').text)\n",
    "    ymax = int(obj.find('bndbox/ymax').text)\n",
    "    region = image.crop((xmin, ymin, xmax, ymax))\n",
    "    text = pytesseract.image_to_string(region)\n",
    "    data.append({'name': name, 'text': text})"
   ]
  },
  {
   "cell_type": "code",
   "execution_count": 94,
   "id": "63f740c8",
   "metadata": {},
   "outputs": [],
   "source": [
    "df_1 = pd.concat([df_1, pd.DataFrame(data)])\n",
    "# Transpose the dataframe\n",
    "# df_1 = df_1.pivot(index=None, columns='name', values='text')\n"
   ]
  },
  {
   "cell_type": "code",
   "execution_count": 95,
   "id": "83f4b476",
   "metadata": {},
   "outputs": [
    {
     "data": {
      "text/html": [
       "<div>\n",
       "<style scoped>\n",
       "    .dataframe tbody tr th:only-of-type {\n",
       "        vertical-align: middle;\n",
       "    }\n",
       "\n",
       "    .dataframe tbody tr th {\n",
       "        vertical-align: top;\n",
       "    }\n",
       "\n",
       "    .dataframe thead th {\n",
       "        text-align: right;\n",
       "    }\n",
       "</style>\n",
       "<table border=\"1\" class=\"dataframe\">\n",
       "  <thead>\n",
       "    <tr style=\"text-align: right;\">\n",
       "      <th></th>\n",
       "      <th>name</th>\n",
       "      <th>text</th>\n",
       "    </tr>\n",
       "  </thead>\n",
       "  <tbody>\n",
       "    <tr>\n",
       "      <th>0</th>\n",
       "      <td>Bill_To_Name</td>\n",
       "      <td>Mr. William I. Campbell\\n</td>\n",
       "    </tr>\n",
       "    <tr>\n",
       "      <th>1</th>\n",
       "      <td>Bill_To_Address</td>\n",
       "      <td>PHILIP MORRIS U.S.A.\\n120 Park Avenue\\nNow vor...</td>\n",
       "    </tr>\n",
       "    <tr>\n",
       "      <th>2</th>\n",
       "      <td>Invoice_Number</td>\n",
       "      <td>2536\\n</td>\n",
       "    </tr>\n",
       "    <tr>\n",
       "      <th>3</th>\n",
       "      <td>Invoice_Date</td>\n",
       "      <td>May 31, 1986\\n</td>\n",
       "    </tr>\n",
       "    <tr>\n",
       "      <th>4</th>\n",
       "      <td>Total_Tax_Amount</td>\n",
       "      <td>41,300.84\\n</td>\n",
       "    </tr>\n",
       "    <tr>\n",
       "      <th>5</th>\n",
       "      <td>Total_Amount</td>\n",
       "      <td>41.300. 84\\n</td>\n",
       "    </tr>\n",
       "  </tbody>\n",
       "</table>\n",
       "</div>"
      ],
      "text/plain": [
       "               name                                               text\n",
       "0      Bill_To_Name                          Mr. William I. Campbell\\n\n",
       "1   Bill_To_Address  PHILIP MORRIS U.S.A.\\n120 Park Avenue\\nNow vor...\n",
       "2    Invoice_Number                                             2536\\n\n",
       "3      Invoice_Date                                     May 31, 1986\\n\n",
       "4  Total_Tax_Amount                                        41,300.84\\n\n",
       "5      Total_Amount                                       41.300. 84\\n"
      ]
     },
     "execution_count": 95,
     "metadata": {},
     "output_type": "execute_result"
    }
   ],
   "source": [
    "df_1"
   ]
  },
  {
   "cell_type": "code",
   "execution_count": 96,
   "id": "2070808f",
   "metadata": {},
   "outputs": [],
   "source": [
    "df_1 = df_1.pivot(index=None, columns='name', values='text')"
   ]
  },
  {
   "cell_type": "code",
   "execution_count": 97,
   "id": "b37c12c1",
   "metadata": {},
   "outputs": [
    {
     "data": {
      "text/html": [
       "<div>\n",
       "<style scoped>\n",
       "    .dataframe tbody tr th:only-of-type {\n",
       "        vertical-align: middle;\n",
       "    }\n",
       "\n",
       "    .dataframe tbody tr th {\n",
       "        vertical-align: top;\n",
       "    }\n",
       "\n",
       "    .dataframe thead th {\n",
       "        text-align: right;\n",
       "    }\n",
       "</style>\n",
       "<table border=\"1\" class=\"dataframe\">\n",
       "  <thead>\n",
       "    <tr style=\"text-align: right;\">\n",
       "      <th>name</th>\n",
       "      <th>Bill_To_Address</th>\n",
       "      <th>Bill_To_Name</th>\n",
       "      <th>Invoice_Date</th>\n",
       "      <th>Invoice_Number</th>\n",
       "      <th>Total_Amount</th>\n",
       "      <th>Total_Tax_Amount</th>\n",
       "    </tr>\n",
       "  </thead>\n",
       "  <tbody>\n",
       "    <tr>\n",
       "      <th>0</th>\n",
       "      <td>NaN</td>\n",
       "      <td>Mr. William I. Campbell\\n</td>\n",
       "      <td>NaN</td>\n",
       "      <td>NaN</td>\n",
       "      <td>NaN</td>\n",
       "      <td>NaN</td>\n",
       "    </tr>\n",
       "    <tr>\n",
       "      <th>1</th>\n",
       "      <td>PHILIP MORRIS U.S.A.\\n120 Park Avenue\\nNow vor...</td>\n",
       "      <td>NaN</td>\n",
       "      <td>NaN</td>\n",
       "      <td>NaN</td>\n",
       "      <td>NaN</td>\n",
       "      <td>NaN</td>\n",
       "    </tr>\n",
       "    <tr>\n",
       "      <th>2</th>\n",
       "      <td>NaN</td>\n",
       "      <td>NaN</td>\n",
       "      <td>NaN</td>\n",
       "      <td>2536\\n</td>\n",
       "      <td>NaN</td>\n",
       "      <td>NaN</td>\n",
       "    </tr>\n",
       "    <tr>\n",
       "      <th>3</th>\n",
       "      <td>NaN</td>\n",
       "      <td>NaN</td>\n",
       "      <td>May 31, 1986\\n</td>\n",
       "      <td>NaN</td>\n",
       "      <td>NaN</td>\n",
       "      <td>NaN</td>\n",
       "    </tr>\n",
       "    <tr>\n",
       "      <th>4</th>\n",
       "      <td>NaN</td>\n",
       "      <td>NaN</td>\n",
       "      <td>NaN</td>\n",
       "      <td>NaN</td>\n",
       "      <td>NaN</td>\n",
       "      <td>41,300.84\\n</td>\n",
       "    </tr>\n",
       "    <tr>\n",
       "      <th>5</th>\n",
       "      <td>NaN</td>\n",
       "      <td>NaN</td>\n",
       "      <td>NaN</td>\n",
       "      <td>NaN</td>\n",
       "      <td>41.300. 84\\n</td>\n",
       "      <td>NaN</td>\n",
       "    </tr>\n",
       "  </tbody>\n",
       "</table>\n",
       "</div>"
      ],
      "text/plain": [
       "name                                    Bill_To_Address  \\\n",
       "0                                                   NaN   \n",
       "1     PHILIP MORRIS U.S.A.\\n120 Park Avenue\\nNow vor...   \n",
       "2                                                   NaN   \n",
       "3                                                   NaN   \n",
       "4                                                   NaN   \n",
       "5                                                   NaN   \n",
       "\n",
       "name               Bill_To_Name    Invoice_Date Invoice_Number  Total_Amount  \\\n",
       "0     Mr. William I. Campbell\\n             NaN            NaN           NaN   \n",
       "1                           NaN             NaN            NaN           NaN   \n",
       "2                           NaN             NaN         2536\\n           NaN   \n",
       "3                           NaN  May 31, 1986\\n            NaN           NaN   \n",
       "4                           NaN             NaN            NaN           NaN   \n",
       "5                           NaN             NaN            NaN  41.300. 84\\n   \n",
       "\n",
       "name Total_Tax_Amount  \n",
       "0                 NaN  \n",
       "1                 NaN  \n",
       "2                 NaN  \n",
       "3                 NaN  \n",
       "4         41,300.84\\n  \n",
       "5                 NaN  "
      ]
     },
     "execution_count": 97,
     "metadata": {},
     "output_type": "execute_result"
    }
   ],
   "source": [
    "df_1"
   ]
  },
  {
   "cell_type": "code",
   "execution_count": 98,
   "id": "f22e409e",
   "metadata": {},
   "outputs": [],
   "source": [
    "# Create an empty dictionary to store the results\n",
    "results = {}\n",
    "\n",
    "# Loop through the annotations and extract the text from each region\n",
    "for obj in root.findall('object'):\n",
    "    name = obj.find('name').text\n",
    "    xmin = int(obj.find('bndbox/xmin').text)\n",
    "    ymin = int(obj.find('bndbox/ymin').text)\n",
    "    xmax = int(obj.find('bndbox/xmax').text)\n",
    "    ymax = int(obj.find('bndbox/ymax').text)\n",
    "    region = image.crop((xmin, ymin, xmax, ymax))\n",
    "    text = pytesseract.image_to_string(region)\n",
    "    results[name] = text\n"
   ]
  },
  {
   "cell_type": "code",
   "execution_count": 99,
   "id": "41c4cfa5",
   "metadata": {},
   "outputs": [],
   "source": [
    "# Create a DataFrame with a single row using the results dictionary\n",
    "df = pd.DataFrame.from_records([results])"
   ]
  },
  {
   "cell_type": "code",
   "execution_count": 100,
   "id": "38c77413",
   "metadata": {},
   "outputs": [
    {
     "data": {
      "text/html": [
       "<div>\n",
       "<style scoped>\n",
       "    .dataframe tbody tr th:only-of-type {\n",
       "        vertical-align: middle;\n",
       "    }\n",
       "\n",
       "    .dataframe tbody tr th {\n",
       "        vertical-align: top;\n",
       "    }\n",
       "\n",
       "    .dataframe thead th {\n",
       "        text-align: right;\n",
       "    }\n",
       "</style>\n",
       "<table border=\"1\" class=\"dataframe\">\n",
       "  <thead>\n",
       "    <tr style=\"text-align: right;\">\n",
       "      <th></th>\n",
       "      <th>Bill_To_Name</th>\n",
       "      <th>Bill_To_Address</th>\n",
       "      <th>Invoice_Number</th>\n",
       "      <th>Invoice_Date</th>\n",
       "      <th>Total_Tax_Amount</th>\n",
       "      <th>Total_Amount</th>\n",
       "    </tr>\n",
       "  </thead>\n",
       "  <tbody>\n",
       "    <tr>\n",
       "      <th>0</th>\n",
       "      <td>Mr. William I. Campbell\\n</td>\n",
       "      <td>PHILIP MORRIS U.S.A.\\n120 Park Avenue\\nNow vor...</td>\n",
       "      <td>2536\\n</td>\n",
       "      <td>May 31, 1986\\n</td>\n",
       "      <td>41,300.84\\n</td>\n",
       "      <td>41.300. 84\\n</td>\n",
       "    </tr>\n",
       "  </tbody>\n",
       "</table>\n",
       "</div>"
      ],
      "text/plain": [
       "                Bill_To_Name  \\\n",
       "0  Mr. William I. Campbell\\n   \n",
       "\n",
       "                                     Bill_To_Address Invoice_Number  \\\n",
       "0  PHILIP MORRIS U.S.A.\\n120 Park Avenue\\nNow vor...         2536\\n   \n",
       "\n",
       "     Invoice_Date Total_Tax_Amount  Total_Amount  \n",
       "0  May 31, 1986\\n      41,300.84\\n  41.300. 84\\n  "
      ]
     },
     "execution_count": 100,
     "metadata": {},
     "output_type": "execute_result"
    }
   ],
   "source": [
    "df"
   ]
  },
  {
   "cell_type": "code",
   "execution_count": null,
   "id": "0d275873",
   "metadata": {},
   "outputs": [],
   "source": [
    "import pytesseract\n",
    "from PIL import Image\n",
    "import xml.etree.ElementTree as ET\n",
    "import pandas as pd\n",
    "import os\n",
    "\n",
    "# Set the path to the directory containing the images and annotations\n",
    "path = 'path/to/directory'\n",
    "\n",
    "# Create an empty list to store the results\n",
    "results = []\n",
    "\n",
    "# Loop through all the images in the directory\n",
    "for filename in os.listdir(path):\n",
    "    if filename.endswith('.jpg'):\n",
    "        # Load the XML file with the annotations for this image\n",
    "        tree = ET.parse(os.path.join(path, filename[:-4] + '.xml'))\n",
    "        root = tree.getroot()\n",
    "\n",
    "        # Load the image\n",
    "        image = Image.open(os.path.join(path, filename))\n",
    "\n",
    "        # Create a dictionary to store the results for this image\n",
    "        image_results = {'filename': filename}\n",
    "\n",
    "        # Loop through the annotations and extract the text from each region\n",
    "        for obj in root.findall('object'):\n",
    "            name = obj.find('name').text\n",
    "            xmin = int(obj.find('bndbox/xmin').text)\n",
    "            ymin = int(obj.find('bndbox/ymin').text)\n",
    "            xmax = int(obj.find('bndbox/xmax').text)\n",
    "            ymax = int(obj.find('bndbox/ymax').text)\n",
    "            region = image.crop((xmin, ymin, xmax, ymax))\n",
    "            text = pytesseract.image_to_string(region)\n",
    "            image_results[name] = text\n",
    "\n",
    "        # Append the results for this image to the list\n",
    "        results.append(image_results)\n",
    "\n",
    "# Create a DataFrame from the list of results\n",
    "df = pd.DataFrame(results)"
   ]
  },
  {
   "cell_type": "code",
   "execution_count": null,
   "id": "50d1a757",
   "metadata": {},
   "outputs": [],
   "source": []
  }
 ],
 "metadata": {
  "kernelspec": {
   "display_name": "Python 3 (ipykernel)",
   "language": "python",
   "name": "python3"
  },
  "language_info": {
   "codemirror_mode": {
    "name": "ipython",
    "version": 3
   },
   "file_extension": ".py",
   "mimetype": "text/x-python",
   "name": "python",
   "nbconvert_exporter": "python",
   "pygments_lexer": "ipython3",
   "version": "3.10.9"
  }
 },
 "nbformat": 4,
 "nbformat_minor": 5
}
